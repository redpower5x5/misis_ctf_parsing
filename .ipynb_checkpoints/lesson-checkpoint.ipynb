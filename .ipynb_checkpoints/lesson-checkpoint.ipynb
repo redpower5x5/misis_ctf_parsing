{
 "cells": [
  {
   "cell_type": "markdown",
   "id": "86b79cbc",
   "metadata": {},
   "source": [
    "# Python web parsing"
   ]
  },
  {
   "cell_type": "markdown",
   "id": "282208cf",
   "metadata": {},
   "source": [
    "## На этой практике:\n",
    "* Через Jupyter Notebook создадим виртуальную среду для Python\n",
    "* Научимся делать REST запросы к web-сервисам \n",
    "* Обработаем контет страниц через Beautifull soup \n",
    "* Поработаем с системой автоматического тестирования Selenium\n",
    "* Обернем все это в докер для удобства :)"
   ]
  },
  {
   "cell_type": "markdown",
   "id": "2fa9c253",
   "metadata": {},
   "source": [
    "\n",
    "\n",
    "Мы используем Anaconda, которая сама умееет создавать среды для Python, а так же ставить пакеты не через pip.\n",
    "\n",
    "Для того, чтобы создать новую виртуальную среду нам необходимо выполнить следущую команду:\n",
    "```\n",
    "conda create -n web_parsing_env python=3.9 bs4 selenium requests\n",
    "```\n",
    "где *web_parsing_env* - название нашей виртуальной среды, далее вы можете указать конкретную версию питона для вашей среды, а так же сразу же поставить нужные вам пакеты\n",
    "\n",
    "данная команда создам нам среду с нужными для веб парсинга пакеты.\n",
    "После этого мы можем ее активировать у нас в консоли при помощи команды:\n",
    "```\n",
    "сonda activate web_parsing_env\n",
    "```\n",
    "\n",
    "Далее нам необходимо сделать так, чтобы jupyter notebook смог увидеть наш venv, для этого поставим в нашу виртуальную среду один доп пакет. Перед этим убедитесь, что вы активировали ваш venv и вы сейчас в нем. Ставим пакет:\n",
    "```\n",
    "pip install --user ipykernel\n",
    "```\n",
    "после этого мы добавим ссылку на наш venv в Jupyter:\n",
    "```\n",
    "python -m ipykernel install --user --name=web_parsing_env\n",
    "```\n",
    "Заходим снова в нашу тетрадку, перезагружам страницу и видим, что по вкладке Kernel->Change Kernel в списке появился наш venv, выбираем его"
   ]
  },
  {
   "cell_type": "markdown",
   "id": "d3c14dc2",
   "metadata": {},
   "source": [
    "Проверим, что мы точно запускаемся с этого venv, запустив код ниже"
   ]
  },
  {
   "cell_type": "code",
   "execution_count": null,
   "id": "e263fc38",
   "metadata": {},
   "outputs": [],
   "source": [
    "import platform\n",
    "print(platform.python_version())"
   ]
  },
  {
   "cell_type": "markdown",
   "id": "ec5d9ef4",
   "metadata": {},
   "source": [
    "Если вы видите версию 3.9, значит все отлично!"
   ]
  },
  {
   "cell_type": "markdown",
   "id": "aec34a64",
   "metadata": {},
   "source": [
    "## REST запросы из Python\n",
    "********* \n",
    "### В Данном разделе разберем базовые GET, POST запросы через библиотеку *requests*\n",
    "\n",
    "Для начала проверим, что у нас стоит библиотека *requests*\n",
    "\n",
    "Если вы используете ранее созданный venv, то она уже есть у вас, иначе запустим следущую команду: \n",
    "```\n",
    "pip install requests\n",
    "```\n",
    "\n",
    "Для начала разберемся с GET запросом, он нам больше всего понадобится)\n",
    "Импортируем библиотеку"
   ]
  },
  {
   "cell_type": "code",
   "execution_count": null,
   "id": "baeeb32d",
   "metadata": {},
   "outputs": [],
   "source": [
    "import requests"
   ]
  },
  {
   "cell_type": "markdown",
   "id": "927fd7e3",
   "metadata": {},
   "source": [
    "Для запроса GET в библиотеке ест ьсоответсвующая функция. выполним на тестовом сайте:"
   ]
  },
  {
   "cell_type": "code",
   "execution_count": null,
   "id": "2fefcb74",
   "metadata": {},
   "outputs": [],
   "source": [
    "response = requests.get(\"http://api.open-notify.org/astros.json\")\n",
    "print(response)"
   ]
  },
  {
   "cell_type": "markdown",
   "id": "5556dfe0",
   "metadata": {},
   "source": [
    "В обьекте response содержится вся информация, отправленная нам сервером в ответ, включая хэдеры, куки и тп.\n",
    "В нашем случае при выводе в консоль мы видим статус код нашего запроса.\n",
    "Посмотрим на контент, который нам вернул сервер"
   ]
  },
  {
   "cell_type": "code",
   "execution_count": null,
   "id": "15153b2c",
   "metadata": {},
   "outputs": [],
   "source": [
    "print(response.content)"
   ]
  },
  {
   "cell_type": "markdown",
   "id": "81948759",
   "metadata": {},
   "source": [
    "Как мы видим, это байтовая строка, в ней может быть как HTML контент станицы, так и JSON данные с бэк-энда. Как раз в нашем случае мы видим JSON. В библиотеку есть встроенная функция .json(). Получим же этот json в новую переменную"
   ]
  },
  {
   "cell_type": "code",
   "execution_count": null,
   "id": "eb46723c",
   "metadata": {},
   "outputs": [],
   "source": [
    "json_data = response.json()\n",
    "json_data"
   ]
  },
  {
   "cell_type": "code",
   "execution_count": null,
   "id": "3d8b5c61",
   "metadata": {},
   "outputs": [],
   "source": [
    "type(json_data)"
   ]
  },
  {
   "cell_type": "markdown",
   "id": "b48d7100",
   "metadata": {},
   "source": [
    "как мы видим, функция в библиотеке преобразовывает json в dict. Это позволит вам быстро работать с данными, вот пример:"
   ]
  },
  {
   "cell_type": "code",
   "execution_count": null,
   "id": "fc802b31",
   "metadata": {},
   "outputs": [],
   "source": [
    "people = json_data['people']\n",
    "print(people[0]['name'])"
   ]
  },
  {
   "cell_type": "markdown",
   "id": "e2f59cec",
   "metadata": {},
   "source": [
    "С запросами можно отправлять query параметры, они описываются как **key:value**"
   ]
  },
  {
   "cell_type": "code",
   "execution_count": null,
   "id": "8d10829b",
   "metadata": {},
   "outputs": [],
   "source": [
    "query = {'username':'Bret'}\n",
    "response = requests.get('https://jsonplaceholder.typicode.com/users', params=query)\n",
    "response.json()"
   ]
  },
  {
   "cell_type": "markdown",
   "id": "384f1a5a",
   "metadata": {},
   "source": [
    "Аналогично query параметрам запроса, вы можете использовать аргумент data для добавления данных для запросов методов PUT и POST."
   ]
  },
  {
   "cell_type": "code",
   "execution_count": null,
   "id": "cd6b5e21",
   "metadata": {},
   "outputs": [],
   "source": [
    "# Создаем новую запись через POST\n",
    "response = requests.post('https://httpbin.org/post', data = {'key':'value'})\n",
    "# Обновляем существующую запись через PUT\n",
    "requests.put('https://httpbin.org/put', data = {'key':'value'})"
   ]
  },
  {
   "cell_type": "markdown",
   "id": "01bcaf5d",
   "metadata": {},
   "source": [
    "## BS4 для анализа контента страницы\n",
    "****** \n",
    "\n",
    "Мы можем использовать библиотеку BeautifulSoup для разбора этого документа и извлечения текста из pтега.\n",
    "\n",
    "Сначала нам нужно импортировать библиотеку и создать экземпляр BeautifulSoup класса для анализа нашего документа:"
   ]
  },
  {
   "cell_type": "code",
   "execution_count": null,
   "id": "c1384de4",
   "metadata": {},
   "outputs": [],
   "source": [
    "import requests\n",
    "page = requests.get(\"https://dataquestio.github.io/web-scraping-pages/simple.html\")\n",
    "page.content"
   ]
  },
  {
   "cell_type": "code",
   "execution_count": null,
   "id": "413297e8",
   "metadata": {},
   "outputs": [],
   "source": [
    "from bs4 import BeautifulSoup\n",
    "soup = BeautifulSoup(page.content, 'html.parser')"
   ]
  },
  {
   "cell_type": "markdown",
   "id": "900d7dfc",
   "metadata": {},
   "source": [
    "Теперь мы можем распечатать HTML-содержимое страницы, красиво отформатированное, используя prettify метод для BeautifulSoup объекта."
   ]
  },
  {
   "cell_type": "code",
   "execution_count": null,
   "id": "338d5802",
   "metadata": {},
   "outputs": [],
   "source": [
    "print(soup.prettify())"
   ]
  },
  {
   "cell_type": "markdown",
   "id": "c3651d3d",
   "metadata": {},
   "source": [
    "Этот шаг не является строго обязательным, и мы не всегда будем с ним связываться, но может быть полезно взглянуть на преттифицированный HTML, чтобы было легче увидеть структуру тегов и места их вложения.\n",
    "Поскольку все теги вложены друг в друга, мы можем перемещаться по структуре по одному уровню за раз. Мы можем сначала выбрать все элементы на верхнем уровне страницы, используя childrenсвойство soup.\n",
    "\n",
    "Обратите внимание, что childrenвозвращается генератор списка, поэтому нам нужно вызвать для него listфункцию:"
   ]
  },
  {
   "cell_type": "code",
   "execution_count": null,
   "id": "35b3dbad",
   "metadata": {},
   "outputs": [],
   "source": [
    "list(soup.children)"
   ]
  },
  {
   "cell_type": "markdown",
   "id": "fc2af6c0",
   "metadata": {},
   "source": [
    "Вышеизложенное говорит нам о том, что на верхнем уровне страницы есть два тега — начальный <!DOCTYPE html>тег и <html> тег. В списке также есть символ новой строки n. Давайте посмотрим, каков тип каждого элемента в списке:"
   ]
  },
  {
   "cell_type": "code",
   "execution_count": null,
   "id": "c555f812",
   "metadata": {},
   "outputs": [],
   "source": [
    "[type(item) for item in list(soup.children)]"
   ]
  },
  {
   "cell_type": "markdown",
   "id": "265ae5a3",
   "metadata": {},
   "source": [
    "Как мы видим, все элементы являются BeautifulSoupобъектами:\n",
    "\n",
    "* Первый — это Doctypeобъект, который содержит информацию о типе документа.\n",
    "* Второй — это NavigableString, который представляет текст, найденный в HTML-документе.\n",
    "* Последний элемент — это Tag объект, который содержит другие вложенные теги.\n",
    "\n",
    "Наиболее важным типом объекта, с которым мы будем иметь дело чаще всего, является Tag объект.\n",
    "\n",
    "Объект Tag позволяет нам перемещаться по HTML-документу и извлекать другие теги и текст. Вы можете узнать больше о различных BeautifulSoup объектах [здесь](https://www.crummy.com/software/BeautifulSoup/bs4/doc/#kinds-of-objects).\n",
    "\n",
    "Теперь мы можем выбрать html тег и его дочерние элементы, взяв третий элемент в списке:"
   ]
  },
  {
   "cell_type": "code",
   "execution_count": null,
   "id": "c38e0b8d",
   "metadata": {},
   "outputs": [],
   "source": [
    "html = list(soup.children)[2]"
   ]
  },
  {
   "cell_type": "markdown",
   "id": "b655ca40",
   "metadata": {},
   "source": [
    "Каждый элемент в списке, возвращаемом children свойством, также является BeautifulSoup объектом, поэтому мы также можем вызывать children метод для html.\n",
    "\n",
    "Теперь мы можем найти детей внутри html тега:"
   ]
  },
  {
   "cell_type": "code",
   "execution_count": null,
   "id": "f9eca9b2",
   "metadata": {},
   "outputs": [],
   "source": [
    "list(html.children)"
   ]
  },
  {
   "cell_type": "markdown",
   "id": "d7143b53",
   "metadata": {},
   "source": [
    "Как мы видим выше, здесь есть два тега head, и body. Мы хотим извлечь текст внутри p тега, поэтому мы углубимся в тело:"
   ]
  },
  {
   "cell_type": "code",
   "execution_count": null,
   "id": "0902a251",
   "metadata": {},
   "outputs": [],
   "source": [
    "body = list(html.children)[3]\n",
    "list(body.children)"
   ]
  },
  {
   "cell_type": "markdown",
   "id": "669ad54a",
   "metadata": {},
   "source": [
    "Теперь мы можем изолировать тег p:"
   ]
  },
  {
   "cell_type": "code",
   "execution_count": null,
   "id": "04a231bc",
   "metadata": {},
   "outputs": [],
   "source": [
    "p = list(body.children)[1]\n",
    "p.get_text()"
   ]
  },
  {
   "cell_type": "markdown",
   "id": "1d9e6d99",
   "metadata": {},
   "source": [
    "Как только мы изолировали тег, мы можем использовать get_text метод для извлечения всего текста внутри тега"
   ]
  },
  {
   "cell_type": "markdown",
   "id": "b69b3d38",
   "metadata": {},
   "source": [
    "#### Поиск всех экземпляров тега одновременно\n",
    "То, что мы сделали выше, было полезно для выяснения того, как перемещаться по странице, но потребовалось много команд, чтобы сделать что-то довольно простое.\n",
    "\n",
    "Если мы хотим извлечь один тег, мы можем вместо этого использовать find_all метод, который найдет все экземпляры тега на странице.\n",
    "Обратите внимание, что find_all возвращается список"
   ]
  },
  {
   "cell_type": "code",
   "execution_count": null,
   "id": "d10b9e89",
   "metadata": {},
   "outputs": [],
   "source": [
    "soup = BeautifulSoup(page.content, 'html.parser')\n",
    "soup.find_all('p')"
   ]
  },
  {
   "cell_type": "markdown",
   "id": "f43f18f5",
   "metadata": {},
   "source": [
    "Если вместо этого вы хотите найти только первый экземпляр тега, вы можете использовать find метод, который вернет один BeautifulSoup объект:"
   ]
  },
  {
   "cell_type": "code",
   "execution_count": null,
   "id": "ed6b69dc",
   "metadata": {},
   "outputs": [],
   "source": [
    "soup.find('p')"
   ]
  },
  {
   "cell_type": "markdown",
   "id": "cba0d6e2",
   "metadata": {},
   "source": [
    "#### Поиск тегов по классу и id\n",
    "Мы представили классы и идентификаторы ранее, но, вероятно, было неясно, почему они были полезны.\n",
    "\n",
    "Классы и идентификаторы используются CSS для определения того, к каким элементам HTML следует применять определенные стили. Но когда мы очищаем, мы также можем использовать их для указания элементов, которые мы хотим очистить.\n",
    "\n",
    "Чтобы проиллюстрировать этот принцип, мы будем работать со следующей страницей:"
   ]
  },
  {
   "cell_type": "code",
   "execution_count": null,
   "id": "560ecc15",
   "metadata": {},
   "outputs": [],
   "source": [
    "page = requests.get(\"https://dataquestio.github.io/web-scraping-pages/ids_and_classes.html\")\n",
    "soup = BeautifulSoup(page.content, 'html.parser')\n",
    "print(soup.prettify())"
   ]
  },
  {
   "cell_type": "markdown",
   "id": "8cbbe165",
   "metadata": {},
   "source": [
    "Мы можем использовать find_all метод для поиска элементов по классу или по идентификатору. В приведенном ниже примере мы будем искать любой p тег, который имеет класс outer-text:"
   ]
  },
  {
   "cell_type": "code",
   "execution_count": null,
   "id": "3a08794c",
   "metadata": {},
   "outputs": [],
   "source": [
    "soup.find_all('p', class_='outer-text')"
   ]
  },
  {
   "cell_type": "markdown",
   "id": "ae3d706a",
   "metadata": {},
   "source": [
    "Мы также можем искать элементы по id:"
   ]
  },
  {
   "cell_type": "code",
   "execution_count": null,
   "id": "deb689c8",
   "metadata": {},
   "outputs": [],
   "source": [
    "soup.find_all(id=\"first\")"
   ]
  },
  {
   "cell_type": "markdown",
   "id": "ffa80869",
   "metadata": {},
   "source": [
    "Мы также можем искать элементы с помощью селекторов CSS. Эти селекторы — это то, как язык CSS позволяет разработчикам указывать теги HTML для стиля. Вот некоторые примеры:\n",
    "\n",
    "* p a — находит все a теги внутри p тега.\n",
    "* body p a — находит все a теги внутри p тега внутри body тега.\n",
    "* html body — находит все body теги внутри html тега.\n",
    "* p.outer-text — находит все p теги с классом outer-text.\n",
    "* p#first — находит все p теги с id first.\n",
    "* body p.outer-text — находит любые p теги с классом outer-text внутри body тега.\n",
    "\n",
    "Подробнее о селекторах CSS можно узнать [здесь](https://developer.mozilla.org/en-US/docs/Web/Guide/CSS/Getting_started/Selectors)\n",
    "\n",
    "BeautifulSoup объекты поддерживают поиск на странице с помощью селекторов CSS с использованием select метода. Мы можем использовать селекторы CSS, чтобы найти все p теги на нашей странице, которые находятся внутри div вот так:"
   ]
  },
  {
   "cell_type": "code",
   "execution_count": null,
   "id": "274a8f07",
   "metadata": {},
   "outputs": [],
   "source": [
    "soup.select(\"div p\")"
   ]
  },
  {
   "cell_type": "markdown",
   "id": "119a01b1",
   "metadata": {},
   "source": [
    "## Selenium и Selenoid\n",
    "****** \n",
    "\n",
    "Иногда не все сайты захотят с вами делиться их содержимым так же, как если бы вы заходили из под браузера. Но как же тогда получить данные? Взять браузер и управлять им при помощи кода!\n",
    "\n",
    "Selenium как раз инструмент, что бы контролировать браузер через ваши скрипты. Вы пихаете определенный драйвер браузеру, и он становится послушным. Но свой бразуер на компе использовать не всегда удобно, особенно если у вас сервер :)\n",
    "\n",
    "Для этого есть selenoid - система, которая через docker создает браузеры, которые уже готовы, что бы им управлял selenium. Причем можно открыть не один, не два, а до 25 браузеров сразу и ими ~~додосить~~ парсить сайт"
   ]
  },
  {
   "cell_type": "markdown",
   "id": "2a53a590",
   "metadata": {},
   "source": [
    "Для начала нам нужно поставить selenoid \n",
    "По [ссылке](https://aerokube.com/selenoid/latest/) скачайте конфигурационный менеджер для вашей платформы (для винды берите amd64, но лучше качнуть линуксовый и запустить )\n",
    "\n",
    "Для мака или линукса после скачивания нужно дать права на исполнение:\n",
    "```\n",
    "chmod +x cm\n",
    "```\n",
    "\n",
    "Запускаем селеноид:\n",
    "```\n",
    "./cm selenoid start --vnc\n",
    "```\n",
    "\n",
    "Запустим ui для диагностики\n",
    "```\n",
    "./cm selenoid-ui start\n",
    "```\n",
    "\n",
    "он будет доступен по адресу http://localhost:8080/"
   ]
  },
  {
   "cell_type": "markdown",
   "id": "0c429dd9",
   "metadata": {},
   "source": [
    "Для начала мы подключимся к виртуальному браузеру:"
   ]
  },
  {
   "cell_type": "code",
   "execution_count": null,
   "id": "4eae2957",
   "metadata": {},
   "outputs": [],
   "source": [
    "from selenium import webdriver\n",
    "capabilities = {\n",
    "    \"browserName\": \"firefox\",\n",
    "    \"version\": \"95.0\",\n",
    "    \"enableVNC\": True,\n",
    "    \"enableVideo\": False\n",
    "}\n",
    "\n",
    "driver = webdriver.Remote(\n",
    "    command_executor=\"http://localhost:4444/wd/hub\",\n",
    "    desired_capabilities=capabilities)\n",
    "driver.close() # закрываем драйвер(браузер), чтоб не занимал память"
   ]
  },
  {
   "cell_type": "markdown",
   "id": "23632c75",
   "metadata": {},
   "source": [
    "Вы так же можете сменить браузер и его версию (подробнее в ui селеноида)"
   ]
  },
  {
   "cell_type": "markdown",
   "id": "82820e6a",
   "metadata": {},
   "source": [
    "Разберем главные функции селениума\n",
    "\n",
    "функция get откроет в браузере сайт\n",
    "\n",
    "Запустите код ниже, зайдите в ui и увидите новый браузер, можно открыть виртуалку и увидеть браузер. Кликните на синюю кнопку сверху слева и сможете тыкать браузер вручную!"
   ]
  },
  {
   "cell_type": "code",
   "execution_count": null,
   "id": "74246988",
   "metadata": {},
   "outputs": [],
   "source": [
    "from selenium import webdriver\n",
    "capabilities = {\n",
    "    \"browserName\": \"firefox\",\n",
    "    \"version\": \"95.0\",\n",
    "    \"enableVNC\": True,\n",
    "    \"enableVideo\": False\n",
    "}\n",
    "\n",
    "driver = webdriver.Remote(\n",
    "    command_executor=\"http://localhost:4444/wd/hub\",\n",
    "    desired_capabilities=capabilities)\n",
    "driver.get(\"https://www.lambdatest.com\")\n",
    "driver.implicitly_wait(20) # ждем 20 с для того, чтобы вы потыкали виртуалку\n",
    "driver.close()"
   ]
  },
  {
   "cell_type": "markdown",
   "id": "8a0b3185",
   "metadata": {},
   "source": [
    "Теперь мы можем искать элементы\n",
    "******* \n",
    "В основном локаторы в Selenium используются для определения местоположения веб-элементов из DOM. Соответствующие взаимодействия (или действия) в дальнейшем выполняются относительно найденных веб-элементов. Несколько популярных локаторов в Selenium - ID, Name, Link Text, Partial Link Text, CSS Selectors, XPath, TagName и т.д."
   ]
  },
  {
   "cell_type": "markdown",
   "id": "17f4700e",
   "metadata": {},
   "source": [
    "Поиск элемента по атрибуту ID\n",
    "В этом методе поиск элемента в DOM производится по ID. ID уникален для каждого элемента на странице. Таким образом, с помощью ID можно однозначно идентифицировать элемент. Например, ниже показано использование атрибута ID для поиска веб-элементов на странице входа в систему LambdaTest:"
   ]
  },
  {
   "cell_type": "code",
   "execution_count": 54,
   "id": "c5411905",
   "metadata": {},
   "outputs": [
    {
     "name": "stdout",
     "output_type": "stream",
     "text": [
      "<selenium.webdriver.remote.webelement.WebElement (session=\"81ea75b5-2dd3-49dc-9b2f-e819b79acb4d\", element=\"3974a732-3f2c-4f64-9ce8-b3ad5743e3ad\")>\n"
     ]
    }
   ],
   "source": [
    "from selenium import webdriver\n",
    "capabilities = {\n",
    "    \"browserName\": \"firefox\",\n",
    "    \"version\": \"95.0\",\n",
    "    \"enableVNC\": True,\n",
    "    \"enableVideo\": False\n",
    "}\n",
    "\n",
    "driver = webdriver.Remote(\n",
    "    command_executor=\"http://localhost:4444/wd/hub\",\n",
    "    desired_capabilities=capabilities)\n",
    "driver.get(\"https://www.lambdatest.com\")\n",
    "email_form = driver.find_element_by_id(\"testing_form\")\n",
    "print(email_form)\n",
    "driver.close()"
   ]
  },
  {
   "cell_type": "markdown",
   "id": "c22d8591",
   "metadata": {},
   "source": [
    "С остальными все очень похоже, разобраться очень легко\n",
    "\n",
    "Вот большая шпаргалка по селениуму\n",
    "([тык](https://habr.com/ru/company/otus/blog/596071/)) "
   ]
  },
  {
   "cell_type": "markdown",
   "id": "2d918ca6",
   "metadata": {},
   "source": [
    "Неявное ожидание в Selenium Python\n",
    "***** \n",
    "Неявное ожидание информирует Selenium WebDriver о необходимости проверять DOM в течение определенного периода времени при попытке найти веб-элемент, который не доступен сразу после загрузки страницы.\n",
    "\n",
    "По умолчанию неявное ожидание равно нулю. Однако, как только мы определяем его, оно устанавливается на время жизни объекта WebDriver."
   ]
  },
  {
   "cell_type": "code",
   "execution_count": null,
   "id": "718fc049",
   "metadata": {},
   "outputs": [],
   "source": [
    "from selenium import webdriver\n",
    "capabilities = {\n",
    "    \"browserName\": \"firefox\",\n",
    "    \"version\": \"95.0\",\n",
    "    \"enableVNC\": True,\n",
    "    \"enableVideo\": False\n",
    "}\n",
    "\n",
    "driver = webdriver.Remote(\n",
    "    command_executor=\"http://localhost:4444/wd/hub\",\n",
    "    desired_capabilities=capabilities)\n",
    "driver.implicitly_wait(10) # в сек.\n",
    "driver.get(\"https://www.lambdatest.com/\")\n",
    "element = driver.find_element_by_id(\"testing_form\")"
   ]
  },
  {
   "cell_type": "markdown",
   "id": "0845bf1d",
   "metadata": {},
   "source": [
    "Явное ожидание в Selenium Python\n",
    "***** \n",
    "Явное ожидание в Selenium с Python используется, когда мы хотим дождаться выполнения определенного условия, прежде чем продолжить работу.\n",
    "\n",
    "В Selenium WebDriver есть несколько удобных методов, которые позволяют подождать, пока не будет выполнено определенное условие. Например, явное ожидание можно получить с помощью класса webdriverWait в сочетании с ожидаемыми условиями в Selenium.\n",
    "\n",
    "Вот некоторые из ожидаемых условий, которые можно использовать в сочетании с явным ожиданием в Selenium Python:\n",
    "\n",
    "* presence_of_all_elements_located\n",
    "\n",
    "* text_to_be_present_in_element\n",
    "\n",
    "* text_to_be_present_in_element_value\n",
    "\n",
    "* frame_to_be_available_and_switch_to_it\n",
    "\n",
    "* invisibility_of_element_located\n",
    "\n",
    "* title_is\n",
    "\n",
    "* title_contains\n",
    "\n",
    "* presence_of_element_located\n",
    "\n",
    "* visibility_of_element_located\n",
    "\n",
    "* visibility_of\n",
    "\n",
    "* element_located_selection_state_to_be\n",
    "\n",
    "* alert_is_present\n",
    "\n",
    "* element_to_be_clickable\n",
    "\n",
    "* staleness_of\n",
    "\n",
    "* element_to_be_selected\n",
    "\n",
    "* element_located_to_be_selected\n",
    "\n",
    "* Element_selection_state_to_be\n",
    "\n",
    "Ниже есть пример, демонстрирующий использование явного ожидания, при котором выполняется неблокирующее ожидание продолжительностью 10 секунд до тех пор, пока не будет найден требуемый веб-элемент (с использованием его атрибута ID):"
   ]
  },
  {
   "cell_type": "code",
   "execution_count": 56,
   "id": "eed7c3b5",
   "metadata": {},
   "outputs": [],
   "source": [
    "from selenium import webdriver\n",
    "from selenium.webdriver.common.by import By\n",
    "from selenium.webdriver.support.ui import WebDriverWait\n",
    "from selenium.webdriver.support import expected_conditions as EC\n",
    "\n",
    "capabilities = {\n",
    "    \"browserName\": \"firefox\",\n",
    "    \"version\": \"95.0\",\n",
    "    \"enableVNC\": True,\n",
    "    \"enableVideo\": False\n",
    "}\n",
    "\n",
    "driver = webdriver.Remote(\n",
    "    command_executor=\"http://localhost:4444/wd/hub\",\n",
    "    desired_capabilities=capabilities)\n",
    "driver.get(\"https://www.lambdatest.com/\")\n",
    "try:\n",
    "    element = WebDriverWait(driver, 10).until(\n",
    "        EC.presence_of_element_located((By.ID, \"testing_form\"))\n",
    "    )\n",
    "except:\n",
    "    print(\"some error happen !!\")"
   ]
  },
  {
   "cell_type": "markdown",
   "id": "f5efc137",
   "metadata": {},
   "source": [
    "Теперь попробуем сделать что-то сами!"
   ]
  },
  {
   "cell_type": "code",
   "execution_count": null,
   "id": "a4d4dc26",
   "metadata": {},
   "outputs": [],
   "source": []
  },
  {
   "cell_type": "code",
   "execution_count": null,
   "id": "77827c24",
   "metadata": {},
   "outputs": [],
   "source": []
  }
 ],
 "metadata": {
  "kernelspec": {
   "display_name": "web_parsing_env",
   "language": "python",
   "name": "web_parsing_env"
  },
  "language_info": {
   "codemirror_mode": {
    "name": "ipython",
    "version": 3
   },
   "file_extension": ".py",
   "mimetype": "text/x-python",
   "name": "python",
   "nbconvert_exporter": "python",
   "pygments_lexer": "ipython3",
   "version": "3.9.13"
  }
 },
 "nbformat": 4,
 "nbformat_minor": 5
}
